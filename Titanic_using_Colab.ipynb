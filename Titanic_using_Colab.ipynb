{
  "nbformat": 4,
  "nbformat_minor": 0,
  "metadata": {
    "colab": {
      "name": "Titanic_using_Colab.ipynb",
      "provenance": [],
      "collapsed_sections": []
    },
    "kernelspec": {
      "name": "python3",
      "display_name": "Python 3"
    },
    "language_info": {
      "name": "python"
    }
  },
  "cells": [
    {
      "cell_type": "markdown",
      "metadata": {
        "id": "WoCCkQdVmjPb"
      },
      "source": [
        "# Titanic data set - machine learning"
      ]
    },
    {
      "cell_type": "markdown",
      "metadata": {
        "id": "xP6aEgWNmpOR"
      },
      "source": [
        "## Run this first"
      ]
    },
    {
      "cell_type": "code",
      "metadata": {
        "id": "-67JbLlXIaLm"
      },
      "source": [
        "#https://mljar.com/blog/visualize-decision-tree/\n",
        "# Pandas - Data manipulation and analysis library\n",
        "import pandas as pd\n",
        "# NumPy - mathematical functions on multi-dimensional arrays and matrices\n",
        "import numpy as np\n",
        "# Matplotlib - plotting library to create graphs and charts\n",
        "import matplotlib.pyplot as plt\n",
        "\n",
        "# Scikit-learn algorithms and functions\n",
        "from sklearn.neighbors import KNeighborsClassifier # Scikit-learn KNeighbors Classifier\n",
        "from sklearn.tree import DecisionTreeClassifier # Scikit-learn Decision Tree Classifier\n",
        "from sklearn import tree\n",
        "from sklearn.model_selection import KFold # Scikit-learn K-Folds cross-validator\n",
        "from sklearn.model_selection import cross_val_score # evaluating cross-validator performance\n",
        "k_fold = KFold(n_splits=10, shuffle=True, random_state=0) # KFold configuration\n",
        "\n",
        "# Settings for Matplotlib graphs and charts\n",
        "from pylab import rcParams\n",
        "rcParams['figure.figsize'] = 12, 8\n",
        "\n",
        "# Display Matplotlib output inline\n",
        "%matplotlib inline\n",
        "\n",
        "import os.path\n",
        "if not os.path.isfile('sampledata/machine-learning/titanic_training.xlsx'):\n",
        "  !rm -rf sampledata\n",
        "  !git clone https://github.com/awchisholm/sampledata.git"
      ],
      "execution_count": null,
      "outputs": []
    },
    {
      "cell_type": "markdown",
      "metadata": {
        "id": "bWz-U-GnnS34"
      },
      "source": [
        "## Read the raw data and have a look at it"
      ]
    },
    {
      "cell_type": "code",
      "metadata": {
        "id": "IMzkrMgRQNaB"
      },
      "source": [
        "titanic_training = pd.read_excel('/content/sampledata/machine-learning/titanic_training.xlsx')\n",
        "titanic_test = pd.read_excel('/content/sampledata/machine-learning/titanic_test.xlsx')\n",
        "titanic_test_labels = pd.read_excel('/content/sampledata/machine-learning/titanic_test_labels.xlsx')\n",
        "print(titanic_training.columns)\n",
        "print(titanic_training.head())\n",
        "print(titanic_test.columns)\n",
        "print(titanic_test.head())\n",
        "print(titanic_test_labels.columns)\n",
        "print(titanic_test_labels.head())"
      ],
      "execution_count": null,
      "outputs": []
    },
    {
      "cell_type": "markdown",
      "metadata": {
        "id": "6vFqU6OgnWQN"
      },
      "source": [
        "## Make data for the machine learning model to use"
      ]
    },
    {
      "cell_type": "code",
      "metadata": {
        "id": "Mg-AjwAuOO7d"
      },
      "source": [
        "labels = titanic_training['Survived']\n",
        "labels_as_text = labels.map({1: 'Yes', 0: 'No'})\n",
        "train_data = titanic_training.drop('Survived', axis=1)\n",
        "test_data = titanic_test"
      ],
      "execution_count": null,
      "outputs": []
    },
    {
      "cell_type": "markdown",
      "metadata": {
        "id": "u2FnZF7c3FTX"
      },
      "source": [
        "## Get an estimate for how good the model is"
      ]
    },
    {
      "cell_type": "code",
      "metadata": {
        "id": "wwq4S2FRKe2D"
      },
      "source": [
        "clf = DecisionTreeClassifier()\n",
        "scoring = 'accuracy'\n",
        "score = cross_val_score(clf, train_data, labels, cv=k_fold, n_jobs=1, scoring=scoring)\n",
        "print(\"The estimated accuracy of the model is\", 100 * round(np.mean(score),2), \"percent\")"
      ],
      "execution_count": null,
      "outputs": []
    },
    {
      "cell_type": "markdown",
      "metadata": {
        "id": "M9BR2hjanblB"
      },
      "source": [
        "## Build a model using the training data and the already known labels"
      ]
    },
    {
      "cell_type": "code",
      "metadata": {
        "id": "YUKqTcZgQEXx"
      },
      "source": [
        "clf = DecisionTreeClassifier()\n",
        "cc = clf.fit(train_data, labels)"
      ],
      "execution_count": null,
      "outputs": []
    },
    {
      "cell_type": "markdown",
      "metadata": {
        "id": "-aqfog5Pnqil"
      },
      "source": [
        "## But this time make predictions using the model and the test data"
      ]
    },
    {
      "cell_type": "code",
      "metadata": {
        "id": "XOXbg8EKnnE3"
      },
      "source": [
        "prediction = clf.predict(test_data)"
      ],
      "execution_count": null,
      "outputs": []
    },
    {
      "cell_type": "code",
      "metadata": {
        "id": "rT8VGLbJy0I9"
      },
      "source": [
        "test_data['Prediction'] = prediction\n",
        "test_data.head()"
      ],
      "execution_count": null,
      "outputs": []
    },
    {
      "cell_type": "markdown",
      "metadata": {
        "id": "X1Caik2Z2jYq"
      },
      "source": [
        "## Sneakily, we have the actual fate of these passengers and we can add it to the prediction to see how good our model is\n"
      ]
    },
    {
      "cell_type": "code",
      "metadata": {
        "id": "od8bF_Qh2s3x"
      },
      "source": [
        "test_data['Actual'] = titanic_test_labels\n",
        "test_data.head()"
      ],
      "execution_count": null,
      "outputs": []
    },
    {
      "cell_type": "markdown",
      "metadata": {
        "id": "YzNzSrVU20yA"
      },
      "source": [
        "## We can see how well we did by using a confusion matrix and we can get a report"
      ]
    },
    {
      "cell_type": "code",
      "metadata": {
        "id": "wGSL4a1TQohl"
      },
      "source": [
        "from sklearn.metrics import confusion_matrix\n",
        "from sklearn.metrics import classification_report\n",
        "y_actu = titanic_test_labels\n",
        "y_pred = prediction\n",
        "print(confusion_matrix(y_actu, y_pred))\n",
        "print(classification_report(y_actu, y_pred, labels=[1,0]))"
      ],
      "execution_count": null,
      "outputs": []
    },
    {
      "cell_type": "markdown",
      "metadata": {
        "id": "2Lbb5Qr3nu14"
      },
      "source": [
        "## We can also print out the decision tree model so we can see how it decides."
      ]
    },
    {
      "cell_type": "code",
      "metadata": {
        "id": "4c800mG1UWNS"
      },
      "source": [
        "#text_representation = tree.export_text(clf)\n",
        "#print(text_representation)\n",
        "import graphviz\n",
        "dot_data = tree.export_graphviz(clf, out_file=None, \n",
        "                                feature_names=train_data.columns,  \n",
        "                                class_names=labels_as_text,\n",
        "                                filled=True)\n",
        "\n",
        "graph = graphviz.Source(dot_data, format=\"png\") \n",
        "graph"
      ],
      "execution_count": null,
      "outputs": []
    }
  ]
}